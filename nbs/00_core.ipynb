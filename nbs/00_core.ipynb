{
 "cells": [
  {
   "cell_type": "markdown",
   "metadata": {},
   "source": [
    "# core\n",
    "\n",
    "> Es un notebook de prueba"
   ]
  },
  {
   "cell_type": "code",
   "execution_count": null,
   "metadata": {},
   "outputs": [],
   "source": [
    "#| default_exp core"
   ]
  },
  {
   "cell_type": "code",
   "execution_count": null,
   "metadata": {},
   "outputs": [],
   "source": [
    "#| hide\n",
    "from nbdev.showdoc import *"
   ]
  },
  {
   "cell_type": "code",
   "execution_count": null,
   "metadata": {},
   "outputs": [],
   "source": [
    "#| export\n",
    "def foo(var_boo):\n",
    "    \"\"\"\n",
    "    Esta funcion muestra si la variable es verdadera o falsa\n",
    "    \"\"\"\n",
    "    if var_boo:\n",
    "        print(\"Es verdadera\")\n",
    "    else:\n",
    "        print(\"Es falsa\")\n",
    "    return "
   ]
  },
  {
   "cell_type": "markdown",
   "metadata": {},
   "source": [
    "Veamos como funciona"
   ]
  },
  {
   "cell_type": "code",
   "execution_count": null,
   "metadata": {},
   "outputs": [
    {
     "name": "stdout",
     "output_type": "stream",
     "text": [
      "Es verdadera\n"
     ]
    }
   ],
   "source": [
    "foo(True)"
   ]
  },
  {
   "cell_type": "code",
   "execution_count": null,
   "metadata": {},
   "outputs": [
    {
     "name": "stdout",
     "output_type": "stream",
     "text": [
      "Es falsa\n"
     ]
    }
   ],
   "source": [
    "foo(False)"
   ]
  },
  {
   "cell_type": "code",
   "execution_count": null,
   "metadata": {},
   "outputs": [],
   "source": [
    "#| export\n",
    "def saludo():\n",
    "    \"\"\"Imprime Hola\"\"\"\n",
    "    print('Hola!')\n",
    "    return"
   ]
  },
  {
   "cell_type": "code",
   "execution_count": null,
   "metadata": {},
   "outputs": [
    {
     "name": "stdout",
     "output_type": "stream",
     "text": [
      "Hola!\n"
     ]
    }
   ],
   "source": [
    "saludo()"
   ]
  },
  {
   "cell_type": "code",
   "execution_count": null,
   "metadata": {},
   "outputs": [],
   "source": [
    "#| export\n",
    "def saludo_a(to):\n",
    "    \"\"\"Imprime hola a un nombre\"\"\"\n",
    "    if type(to ) == str:\n",
    "        print('Hola!', to)\n",
    "    else :\n",
    "        raise(\"Error no es un string\")\n",
    "    \n",
    "    print('Espero que te encuentres bien')\n",
    "    return"
   ]
  },
  {
   "cell_type": "code",
   "execution_count": null,
   "metadata": {},
   "outputs": [
    {
     "name": "stdout",
     "output_type": "stream",
     "text": [
      "Hola! Miguel\n",
      "Espero que te encuentres bien\n"
     ]
    }
   ],
   "source": [
    "saludo_a(\"Miguel\")"
   ]
  },
  {
   "cell_type": "code",
   "execution_count": null,
   "metadata": {},
   "outputs": [
    {
     "name": "stdout",
     "output_type": "stream",
     "text": [
      "Hola! Mary\n",
      "Espero que te encuentres bien\n"
     ]
    }
   ],
   "source": [
    "saludo_a(\"Mary\")"
   ]
  },
  {
   "cell_type": "code",
   "execution_count": null,
   "metadata": {},
   "outputs": [
    {
     "data": {
      "text/markdown": [
       "---\n",
       "\n",
       "### saludo_a\n",
       "\n",
       ">      saludo_a (to)\n",
       "\n",
       "Imprime hola a un nombre"
      ],
      "text/plain": [
       "---\n",
       "\n",
       "### saludo_a\n",
       "\n",
       ">      saludo_a (to)\n",
       "\n",
       "Imprime hola a un nombre"
      ]
     },
     "execution_count": null,
     "metadata": {},
     "output_type": "execute_result"
    }
   ],
   "source": [
    "show_doc(saludo_a)"
   ]
  },
  {
   "cell_type": "code",
   "execution_count": null,
   "metadata": {},
   "outputs": [],
   "source": [
    "#| export\n",
    "\n",
    "def concatena_saludos(nombre = ''):\n",
    "    \"\"\"Es una función que concatena las dos funciones\"\"\"\n",
    "    saludo()\n",
    "    saludo_a(nombre)\n",
    "    "
   ]
  },
  {
   "cell_type": "code",
   "execution_count": null,
   "metadata": {},
   "outputs": [
    {
     "name": "stdout",
     "output_type": "stream",
     "text": [
      "Hola!\n",
      "Hola! None\n",
      "Espero que te encuentres bien\n"
     ]
    }
   ],
   "source": [
    "#| hide\n",
    "concatena_saludos()"
   ]
  },
  {
   "cell_type": "code",
   "execution_count": null,
   "metadata": {},
   "outputs": [
    {
     "name": "stdout",
     "output_type": "stream",
     "text": [
      "Hola!\n",
      "Hola! Paquita\n",
      "Espero que te encuentres bien\n"
     ]
    }
   ],
   "source": [
    "\n",
    "concatena_saludos(\"Paquita\")"
   ]
  },
  {
   "cell_type": "code",
   "execution_count": null,
   "metadata": {},
   "outputs": [],
   "source": [
    "#| hide\n",
    "import nbdev; nbdev.nbdev_export()"
   ]
  },
  {
   "cell_type": "code",
   "execution_count": null,
   "metadata": {},
   "outputs": [],
   "source": []
  }
 ],
 "metadata": {
  "kernelspec": {
   "display_name": "python3",
   "language": "python",
   "name": "python3"
  }
 },
 "nbformat": 4,
 "nbformat_minor": 4
}
